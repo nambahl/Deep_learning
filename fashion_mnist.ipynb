{
  "nbformat": 4,
  "nbformat_minor": 0,
  "metadata": {
    "colab": {
      "name": "Untitled4.ipynb",
      "provenance": [],
      "authorship_tag": "ABX9TyOgSM+v01npuOxR6Ae/1o0n",
      "include_colab_link": true
    },
    "kernelspec": {
      "name": "python3",
      "display_name": "Python 3"
    },
    "accelerator": "GPU"
  },
  "cells": [
    {
      "cell_type": "markdown",
      "metadata": {
        "id": "view-in-github",
        "colab_type": "text"
      },
      "source": [
        "<a href=\"https://colab.research.google.com/github/nambahl/hello-world/blob/master/fashion_mnist.ipynb\" target=\"_parent\"><img src=\"https://colab.research.google.com/assets/colab-badge.svg\" alt=\"Open In Colab\"/></a>"
      ]
    },
    {
      "cell_type": "code",
      "metadata": {
        "id": "4xElrx8jO8h-",
        "colab": {
          "base_uri": "https://localhost:8080/"
        },
        "outputId": "740bb316-36e4-4ca7-a3b0-168c419cce7b"
      },
      "source": [
        "!pip install keras-tuner"
      ],
      "execution_count": 1,
      "outputs": [
        {
          "output_type": "stream",
          "text": [
            "Collecting keras-tuner\n",
            "\u001b[?25l  Downloading https://files.pythonhosted.org/packages/20/ec/1ef246787174b1e2bb591c95f29d3c1310070cad877824f907faba3dade9/keras-tuner-1.0.2.tar.gz (62kB)\n",
            "\r\u001b[K     |█████▏                          | 10kB 16.6MB/s eta 0:00:01\r\u001b[K     |██████████▍                     | 20kB 19.9MB/s eta 0:00:01\r\u001b[K     |███████████████▋                | 30kB 15.7MB/s eta 0:00:01\r\u001b[K     |████████████████████▉           | 40kB 14.2MB/s eta 0:00:01\r\u001b[K     |██████████████████████████      | 51kB 12.4MB/s eta 0:00:01\r\u001b[K     |███████████████████████████████▎| 61kB 14.0MB/s eta 0:00:01\r\u001b[K     |████████████████████████████████| 71kB 5.4MB/s \n",
            "\u001b[?25hRequirement already satisfied: packaging in /usr/local/lib/python3.7/dist-packages (from keras-tuner) (20.9)\n",
            "Requirement already satisfied: future in /usr/local/lib/python3.7/dist-packages (from keras-tuner) (0.16.0)\n",
            "Requirement already satisfied: numpy in /usr/local/lib/python3.7/dist-packages (from keras-tuner) (1.19.5)\n",
            "Requirement already satisfied: tabulate in /usr/local/lib/python3.7/dist-packages (from keras-tuner) (0.8.9)\n",
            "Collecting terminaltables\n",
            "  Downloading https://files.pythonhosted.org/packages/9b/c4/4a21174f32f8a7e1104798c445dacdc1d4df86f2f26722767034e4de4bff/terminaltables-3.1.0.tar.gz\n",
            "Collecting colorama\n",
            "  Downloading https://files.pythonhosted.org/packages/44/98/5b86278fbbf250d239ae0ecb724f8572af1c91f4a11edf4d36a206189440/colorama-0.4.4-py2.py3-none-any.whl\n",
            "Requirement already satisfied: tqdm in /usr/local/lib/python3.7/dist-packages (from keras-tuner) (4.41.1)\n",
            "Requirement already satisfied: requests in /usr/local/lib/python3.7/dist-packages (from keras-tuner) (2.23.0)\n",
            "Requirement already satisfied: scipy in /usr/local/lib/python3.7/dist-packages (from keras-tuner) (1.4.1)\n",
            "Requirement already satisfied: scikit-learn in /usr/local/lib/python3.7/dist-packages (from keras-tuner) (0.22.2.post1)\n",
            "Requirement already satisfied: pyparsing>=2.0.2 in /usr/local/lib/python3.7/dist-packages (from packaging->keras-tuner) (2.4.7)\n",
            "Requirement already satisfied: urllib3!=1.25.0,!=1.25.1,<1.26,>=1.21.1 in /usr/local/lib/python3.7/dist-packages (from requests->keras-tuner) (1.24.3)\n",
            "Requirement already satisfied: chardet<4,>=3.0.2 in /usr/local/lib/python3.7/dist-packages (from requests->keras-tuner) (3.0.4)\n",
            "Requirement already satisfied: idna<3,>=2.5 in /usr/local/lib/python3.7/dist-packages (from requests->keras-tuner) (2.10)\n",
            "Requirement already satisfied: certifi>=2017.4.17 in /usr/local/lib/python3.7/dist-packages (from requests->keras-tuner) (2020.12.5)\n",
            "Requirement already satisfied: joblib>=0.11 in /usr/local/lib/python3.7/dist-packages (from scikit-learn->keras-tuner) (1.0.1)\n",
            "Building wheels for collected packages: keras-tuner, terminaltables\n",
            "  Building wheel for keras-tuner (setup.py) ... \u001b[?25l\u001b[?25hdone\n",
            "  Created wheel for keras-tuner: filename=keras_tuner-1.0.2-cp37-none-any.whl size=78938 sha256=a2847e902944bcc76691676baf33e7f8d4acbf54e388763800fb0a56a6a6afc1\n",
            "  Stored in directory: /root/.cache/pip/wheels/bb/a1/8a/7c3de0efb3707a1701b36ebbfdbc4e67aedf6d4943a1f463d6\n",
            "  Building wheel for terminaltables (setup.py) ... \u001b[?25l\u001b[?25hdone\n",
            "  Created wheel for terminaltables: filename=terminaltables-3.1.0-cp37-none-any.whl size=15356 sha256=d1630778610c0ad21880a03a4f1977beac00eacba9d39fbbed0670572f70c7b3\n",
            "  Stored in directory: /root/.cache/pip/wheels/30/6b/50/6c75775b681fb36cdfac7f19799888ef9d8813aff9e379663e\n",
            "Successfully built keras-tuner terminaltables\n",
            "Installing collected packages: terminaltables, colorama, keras-tuner\n",
            "Successfully installed colorama-0.4.4 keras-tuner-1.0.2 terminaltables-3.1.0\n"
          ],
          "name": "stdout"
        }
      ]
    },
    {
      "cell_type": "code",
      "metadata": {
        "id": "IY7YOotyQ_kT"
      },
      "source": [
        "import tensorflow as tf\r\n",
        "from tensorflow import keras\r\n",
        "import numpy as numpy"
      ],
      "execution_count": 3,
      "outputs": []
    },
    {
      "cell_type": "code",
      "metadata": {
        "colab": {
          "base_uri": "https://localhost:8080/",
          "height": 35
        },
        "id": "JCwGYBidwK6V",
        "outputId": "4926ed11-8b30-465a-ad9a-b3c38666b15c"
      },
      "source": [
        "tf.__version__"
      ],
      "execution_count": 4,
      "outputs": [
        {
          "output_type": "execute_result",
          "data": {
            "application/vnd.google.colaboratory.intrinsic+json": {
              "type": "string"
            },
            "text/plain": [
              "'2.4.1'"
            ]
          },
          "metadata": {
            "tags": []
          },
          "execution_count": 4
        }
      ]
    },
    {
      "cell_type": "code",
      "metadata": {
        "id": "AinxPsNEwNBZ"
      },
      "source": [
        "fashion_mnist= keras.datasets.fashion_mnist"
      ],
      "execution_count": 5,
      "outputs": []
    },
    {
      "cell_type": "code",
      "metadata": {
        "colab": {
          "base_uri": "https://localhost:8080/"
        },
        "id": "U5FJVnO-whxH",
        "outputId": "c158bf3e-720b-45dc-bc35-76d2a2ef0d60"
      },
      "source": [
        "(train_images,train_labels),(test_images,test_labels)=fashion_mnist.load_data()"
      ],
      "execution_count": 8,
      "outputs": [
        {
          "output_type": "stream",
          "text": [
            "Downloading data from https://storage.googleapis.com/tensorflow/tf-keras-datasets/train-labels-idx1-ubyte.gz\n",
            "32768/29515 [=================================] - 0s 0us/step\n",
            "Downloading data from https://storage.googleapis.com/tensorflow/tf-keras-datasets/train-images-idx3-ubyte.gz\n",
            "26427392/26421880 [==============================] - 0s 0us/step\n",
            "Downloading data from https://storage.googleapis.com/tensorflow/tf-keras-datasets/t10k-labels-idx1-ubyte.gz\n",
            "8192/5148 [===============================================] - 0s 0us/step\n",
            "Downloading data from https://storage.googleapis.com/tensorflow/tf-keras-datasets/t10k-images-idx3-ubyte.gz\n",
            "4423680/4422102 [==============================] - 0s 0us/step\n"
          ],
          "name": "stdout"
        }
      ]
    },
    {
      "cell_type": "code",
      "metadata": {
        "id": "_f2amluvwkSx"
      },
      "source": [
        "train_images=train_images/255.0\r\n",
        "test_images=test_images/255.0"
      ],
      "execution_count": 16,
      "outputs": []
    },
    {
      "cell_type": "code",
      "metadata": {
        "id": "Z81qaiJtxJI_"
      },
      "source": [
        "train_images[0].shape\r\n",
        "image= test_images[3]"
      ],
      "execution_count": 44,
      "outputs": []
    },
    {
      "cell_type": "code",
      "metadata": {
        "id": "zwRpNezNypm6"
      },
      "source": [
        "train_images=train_images.reshape(len(train_images),28,28,1)\r\n",
        "test_images=test_images.reshape(len(test_images),28,28,1)"
      ],
      "execution_count": 22,
      "outputs": []
    },
    {
      "cell_type": "code",
      "metadata": {
        "id": "3_vO_fJyznW4"
      },
      "source": [
        "def build_model(hp):  \r\n",
        "  model = keras.Sequential([\r\n",
        "    keras.layers.Conv2D(\r\n",
        "        filters=hp.Int('conv_1_filter', min_value=32, max_value=128, step=16),\r\n",
        "        kernel_size=hp.Choice('conv_1_kernel', values = [3,5]),\r\n",
        "        activation='relu',\r\n",
        "        input_shape=(28,28,1)\r\n",
        "    ),\r\n",
        "    keras.layers.Conv2D(\r\n",
        "        filters=hp.Int('conv_2_filter', min_value=32, max_value=64, step=16),\r\n",
        "        kernel_size=hp.Choice('conv_2_kernel', values = [3,5]),\r\n",
        "        activation='relu'\r\n",
        "    ),\r\n",
        "    keras.layers.Flatten(),\r\n",
        "    keras.layers.Dense(\r\n",
        "        units=hp.Int('dense_1_units', min_value=32, max_value=128, step=16),\r\n",
        "        activation='relu'\r\n",
        "    ),\r\n",
        "    keras.layers.Dense(10, activation='softmax')\r\n",
        "  ])\r\n",
        "  \r\n",
        "  model.compile(optimizer=keras.optimizers.Adam(hp.Choice('learning_rate', values=[1e-2, 1e-3])),\r\n",
        "              loss='sparse_categorical_crossentropy',\r\n",
        "              metrics=['accuracy'])\r\n",
        "  \r\n",
        "  return model"
      ],
      "execution_count": 24,
      "outputs": []
    },
    {
      "cell_type": "code",
      "metadata": {
        "id": "9hOspWn92g7z"
      },
      "source": [
        "from kerastuner import RandomSearch\r\n",
        "from kerastuner.engine.hyperparameters import HyperParameters"
      ],
      "execution_count": 25,
      "outputs": []
    },
    {
      "cell_type": "code",
      "metadata": {
        "id": "bpNgb1LK2x5H"
      },
      "source": [
        "tuner_search=RandomSearch(build_model,\r\n",
        "                          objective='val_accuracy',\r\n",
        "                          max_trials=5,directory='output',project_name=\"Mnist Fashion\")"
      ],
      "execution_count": 26,
      "outputs": []
    },
    {
      "cell_type": "code",
      "metadata": {
        "colab": {
          "base_uri": "https://localhost:8080/"
        },
        "id": "88GB8yc43Hkq",
        "outputId": "b8fef5bf-4db8-4c0b-9e25-c0a2331218af"
      },
      "source": [
        "tuner_search.search(train_images,train_labels,epochs=3,validation_split=0.1)"
      ],
      "execution_count": 27,
      "outputs": [
        {
          "output_type": "stream",
          "text": [
            "Trial 5 Complete [00h 00m 50s]\n",
            "val_accuracy: 0.8798333406448364\n",
            "\n",
            "Best val_accuracy So Far: 0.9096666574478149\n",
            "Total elapsed time: 00h 04m 01s\n",
            "INFO:tensorflow:Oracle triggered exit\n"
          ],
          "name": "stdout"
        }
      ]
    },
    {
      "cell_type": "code",
      "metadata": {
        "colab": {
          "base_uri": "https://localhost:8080/"
        },
        "id": "UbnvPLh13We5",
        "outputId": "1e4265e4-7d00-4df0-d82b-7c4e868bc7bd"
      },
      "source": [
        "tuner_search.results_summary()"
      ],
      "execution_count": 28,
      "outputs": [
        {
          "output_type": "stream",
          "text": [
            "Results summary\n",
            "Results in output/Mnist Fashion\n",
            "Showing 10 best trials\n",
            "Objective(name='val_accuracy', direction='max')\n",
            "Trial summary\n",
            "Hyperparameters:\n",
            "conv_1_filter: 48\n",
            "conv_1_kernel: 5\n",
            "conv_2_filter: 64\n",
            "conv_2_kernel: 5\n",
            "dense_1_units: 48\n",
            "learning_rate: 0.001\n",
            "Score: 0.9096666574478149\n",
            "Trial summary\n",
            "Hyperparameters:\n",
            "conv_1_filter: 80\n",
            "conv_1_kernel: 5\n",
            "conv_2_filter: 48\n",
            "conv_2_kernel: 3\n",
            "dense_1_units: 96\n",
            "learning_rate: 0.001\n",
            "Score: 0.9089999794960022\n",
            "Trial summary\n",
            "Hyperparameters:\n",
            "conv_1_filter: 112\n",
            "conv_1_kernel: 3\n",
            "conv_2_filter: 48\n",
            "conv_2_kernel: 3\n",
            "dense_1_units: 128\n",
            "learning_rate: 0.01\n",
            "Score: 0.8798333406448364\n",
            "Trial summary\n",
            "Hyperparameters:\n",
            "conv_1_filter: 80\n",
            "conv_1_kernel: 5\n",
            "conv_2_filter: 48\n",
            "conv_2_kernel: 5\n",
            "dense_1_units: 96\n",
            "learning_rate: 0.01\n",
            "Score: 0.8636666536331177\n",
            "Trial summary\n",
            "Hyperparameters:\n",
            "conv_1_filter: 128\n",
            "conv_1_kernel: 5\n",
            "conv_2_filter: 32\n",
            "conv_2_kernel: 3\n",
            "dense_1_units: 96\n",
            "learning_rate: 0.01\n",
            "Score: 0.10266666859388351\n"
          ],
          "name": "stdout"
        }
      ]
    },
    {
      "cell_type": "code",
      "metadata": {
        "id": "XCsk79CM4pcr"
      },
      "source": [
        "model=tuner_search.get_best_models(num_models=1)[0]"
      ],
      "execution_count": 29,
      "outputs": []
    },
    {
      "cell_type": "code",
      "metadata": {
        "colab": {
          "base_uri": "https://localhost:8080/"
        },
        "id": "9Kw7IY1t5gwP",
        "outputId": "4c96f535-f46c-454b-c4e9-55f6dd23a2b9"
      },
      "source": [
        "model.summary()"
      ],
      "execution_count": 30,
      "outputs": [
        {
          "output_type": "stream",
          "text": [
            "Model: \"sequential\"\n",
            "_________________________________________________________________\n",
            "Layer (type)                 Output Shape              Param #   \n",
            "=================================================================\n",
            "conv2d (Conv2D)              (None, 24, 24, 48)        1248      \n",
            "_________________________________________________________________\n",
            "conv2d_1 (Conv2D)            (None, 20, 20, 64)        76864     \n",
            "_________________________________________________________________\n",
            "flatten (Flatten)            (None, 25600)             0         \n",
            "_________________________________________________________________\n",
            "dense (Dense)                (None, 48)                1228848   \n",
            "_________________________________________________________________\n",
            "dense_1 (Dense)              (None, 10)                490       \n",
            "=================================================================\n",
            "Total params: 1,307,450\n",
            "Trainable params: 1,307,450\n",
            "Non-trainable params: 0\n",
            "_________________________________________________________________\n"
          ],
          "name": "stdout"
        }
      ]
    },
    {
      "cell_type": "code",
      "metadata": {
        "colab": {
          "base_uri": "https://localhost:8080/"
        },
        "id": "yKzLNMF45itt",
        "outputId": "a78c7eed-1e1b-4dce-b3a0-0e842012d959"
      },
      "source": [
        "model.fit(train_images, train_labels, epochs=10, validation_split=0.1, initial_epoch=3)"
      ],
      "execution_count": 31,
      "outputs": [
        {
          "output_type": "stream",
          "text": [
            "Epoch 4/10\n",
            "1688/1688 [==============================] - 12s 7ms/step - loss: 0.1831 - accuracy: 0.9324 - val_loss: 0.2481 - val_accuracy: 0.9113\n",
            "Epoch 5/10\n",
            "1688/1688 [==============================] - 12s 7ms/step - loss: 0.1443 - accuracy: 0.9472 - val_loss: 0.2698 - val_accuracy: 0.9147\n",
            "Epoch 6/10\n",
            "1688/1688 [==============================] - 12s 7ms/step - loss: 0.1121 - accuracy: 0.9582 - val_loss: 0.2924 - val_accuracy: 0.9120\n",
            "Epoch 7/10\n",
            "1688/1688 [==============================] - 12s 7ms/step - loss: 0.0852 - accuracy: 0.9686 - val_loss: 0.3187 - val_accuracy: 0.9112\n",
            "Epoch 8/10\n",
            "1688/1688 [==============================] - 12s 7ms/step - loss: 0.0716 - accuracy: 0.9732 - val_loss: 0.4165 - val_accuracy: 0.9075\n",
            "Epoch 9/10\n",
            "1688/1688 [==============================] - 12s 7ms/step - loss: 0.0558 - accuracy: 0.9799 - val_loss: 0.3683 - val_accuracy: 0.9092\n",
            "Epoch 10/10\n",
            "1688/1688 [==============================] - 12s 7ms/step - loss: 0.0455 - accuracy: 0.9835 - val_loss: 0.4209 - val_accuracy: 0.9088\n"
          ],
          "name": "stdout"
        },
        {
          "output_type": "execute_result",
          "data": {
            "text/plain": [
              "<tensorflow.python.keras.callbacks.History at 0x7f99e8c28310>"
            ]
          },
          "metadata": {
            "tags": []
          },
          "execution_count": 31
        }
      ]
    },
    {
      "cell_type": "code",
      "metadata": {
        "colab": {
          "base_uri": "https://localhost:8080/"
        },
        "id": "3rOLvIwp54fD",
        "outputId": "f386587b-ede7-483a-bf77-1c8291ac049c"
      },
      "source": [
        "train_images.shape"
      ],
      "execution_count": 34,
      "outputs": [
        {
          "output_type": "execute_result",
          "data": {
            "text/plain": [
              "(60000, 28, 28, 1)"
            ]
          },
          "metadata": {
            "tags": []
          },
          "execution_count": 34
        }
      ]
    },
    {
      "cell_type": "code",
      "metadata": {
        "colab": {
          "base_uri": "https://localhost:8080/"
        },
        "id": "eP2XVYm_7OZV",
        "outputId": "8e84af4c-4730-4bb0-fda4-6437aa0eadad"
      },
      "source": [
        "test_loss,test_accuracy= model.evaluate(test_images,test_labels)"
      ],
      "execution_count": 35,
      "outputs": [
        {
          "output_type": "stream",
          "text": [
            "313/313 [==============================] - 1s 4ms/step - loss: 0.4578 - accuracy: 0.9049\n"
          ],
          "name": "stdout"
        }
      ]
    },
    {
      "cell_type": "code",
      "metadata": {
        "id": "3191dK2_8E40"
      },
      "source": [
        "predict= model.predict(test_images)"
      ],
      "execution_count": 36,
      "outputs": []
    },
    {
      "cell_type": "code",
      "metadata": {
        "colab": {
          "base_uri": "https://localhost:8080/"
        },
        "id": "-HlyKstX8_Z9",
        "outputId": "42326497-d59e-4174-fe21-c3a6060cfb70"
      },
      "source": [
        "predict[122]"
      ],
      "execution_count": 70,
      "outputs": [
        {
          "output_type": "execute_result",
          "data": {
            "text/plain": [
              "array([9.1018158e-11, 2.5853965e-12, 2.5404610e-14, 4.1052090e-06,\n",
              "       4.5770796e-12, 4.9344864e-05, 1.8594583e-12, 8.9198029e-06,\n",
              "       3.6936734e-09, 9.9993765e-01], dtype=float32)"
            ]
          },
          "metadata": {
            "tags": []
          },
          "execution_count": 70
        }
      ]
    },
    {
      "cell_type": "code",
      "metadata": {
        "id": "t4aFWqvp9IiR"
      },
      "source": [
        "import matplotlib.pyplot as plt\r\n",
        "image=test_images[112]\r\n",
        "image=image.reshape(28,28)"
      ],
      "execution_count": 71,
      "outputs": []
    },
    {
      "cell_type": "code",
      "metadata": {
        "colab": {
          "base_uri": "https://localhost:8080/",
          "height": 269
        },
        "id": "3Mg7HvAx9a4D",
        "outputId": "0223b393-6738-446a-9df9-fe6687516a72"
      },
      "source": [
        "plt.figure()\r\n",
        "plt.imshow(image,cmap=plt.cm.binary)\r\n",
        "plt.colorbar()\r\n",
        "plt.grid(False)\r\n",
        "plt.show() "
      ],
      "execution_count": 72,
      "outputs": [
        {
          "output_type": "display_data",
          "data": {
            "image/png": "[encoded data removed]",
            "text/plain": [
              "<Figure size 432x288 with 2 Axes>"
            ]
          },
          "metadata": {
            "tags": [],
            "needs_background": "light"
          }
        }
      ]
    },
    {
      "cell_type": "code",
      "metadata": {
        "id": "AUv1fv-7_AtZ"
      },
      "source": [
        ""
      ],
      "execution_count": null,
      "outputs": []
    }
  ]
}